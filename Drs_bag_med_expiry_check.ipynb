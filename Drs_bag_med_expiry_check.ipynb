{
  "nbformat": 4,
  "nbformat_minor": 0,
  "metadata": {
    "colab": {
      "provenance": [],
      "authorship_tag": "ABX9TyNZ91A9L7nB8vLfwltZuN4C",
      "include_colab_link": true
    },
    "kernelspec": {
      "name": "python3",
      "display_name": "Python 3"
    },
    "language_info": {
      "name": "python"
    }
  },
  "cells": [
    {
      "cell_type": "markdown",
      "metadata": {
        "id": "view-in-github",
        "colab_type": "text"
      },
      "source": [
        "<a href=\"https://colab.research.google.com/github/RubyPYC/One_Stop_Cataract_Surgery_Referral_NHSAAA/blob/main/Drs_bag_med_expiry_check.ipynb\" target=\"_parent\"><img src=\"https://colab.research.google.com/assets/colab-badge.svg\" alt=\"Open In Colab\"/></a>"
      ]
    },
    {
      "cell_type": "code",
      "execution_count": 7,
      "metadata": {
        "colab": {
          "base_uri": "https://localhost:8080/"
        },
        "id": "vLzqEa1NkU0X",
        "outputId": "582b9269-4248-4b76-fa06-8558171be6c9"
      },
      "outputs": [
        {
          "output_type": "stream",
          "name": "stdout",
          "text": [
            "Sample CSV file 'medications.csv' created successfully.\n",
            "\n",
            "Contents of the CSV file:\n",
            "{'medication_name': 'Aspirin', 'expiry_month': '09-2023'}\n",
            "{'medication_name': 'Ibuprofen', 'expiry_month': '05-2024'}\n",
            "{'medication_name': 'Paracetamol', 'expiry_month': '10-2023'}\n",
            "{'medication_name': 'Amoxicillin', 'expiry_month': '11-2024'}\n",
            "{'medication_name': 'Metformin', 'expiry_month': '01-2025'}\n"
          ]
        }
      ],
      "source": [
        "import csv\n",
        "\n",
        "# Function to create a sample CSV file for medications\n",
        "def create_sample_csv(file_name):\n",
        "    # Sample data for medications\n",
        "    medications = [\n",
        "        {'medication_name': 'Aspirin', 'expiry_month': '09-2023'},\n",
        "        {'medication_name': 'Ibuprofen', 'expiry_month': '05-2024'},\n",
        "        {'medication_name': 'Paracetamol', 'expiry_month': '10-2023'},\n",
        "        {'medication_name': 'Amoxicillin', 'expiry_month': '11-2024'},\n",
        "        {'medication_name': 'Metformin', 'expiry_month': '01-2025'}\n",
        "    ]\n",
        "\n",
        "    # Writing to the CSV file\n",
        "    with open(file_name, mode='w', newline='') as file:\n",
        "        fieldnames = ['medication_name', 'expiry_month']\n",
        "        writer = csv.DictWriter(file, fieldnames=fieldnames)\n",
        "\n",
        "        writer.writeheader()  # Write the header\n",
        "        writer.writerows(medications)  # Write the medication data\n",
        "\n",
        "    print(f\"Sample CSV file '{file_name}' created successfully.\")\n",
        "\n",
        "# Function to read and display the contents of the CSV file\n",
        "def read_csv(file_name):\n",
        "    print(\"\\nContents of the CSV file:\")\n",
        "    with open(file_name, mode='r') as file:\n",
        "        reader = csv.DictReader(file)\n",
        "        for row in reader:\n",
        "            print(row)\n",
        "\n",
        "if __name__ == \"__main__\":\n",
        "    csv_file_name = 'medications.csv'\n",
        "\n",
        "    # Create sample CSV file\n",
        "    create_sample_csv(csv_file_name)\n",
        "\n",
        "    # Read and display contents of the created CSV file\n",
        "    read_csv(csv_file_name)\n"
      ]
    },
    {
      "cell_type": "code",
      "source": [
        "import csv\n",
        "from datetime import datetime\n",
        "\n",
        "def check_expiry(csv_file):\n",
        "    expired_meds = []\n",
        "    current_date = datetime.now()\n",
        "\n",
        "    with open(csv_file, mode='r') as file:\n",
        "        reader = csv.DictReader(file)\n",
        "\n",
        "        for row in reader:\n",
        "            medication = row['medication_name']\n",
        "            expiry_month_str = row['expiry_month']\n",
        "            expiry_date = datetime.strptime(expiry_month_str, '%m-%Y')\n",
        "\n",
        "            # Check if the expiry date is less than the current date\n",
        "            if expiry_date < current_date:\n",
        "                expired_meds.append(medication)\n",
        "\n",
        "    return expired_meds\n",
        "\n",
        "def update_expiry_date(csv_file, medication, new_expiry):\n",
        "    # Read all medications into a list\n",
        "    medications = []\n",
        "\n",
        "    with open(csv_file, mode='r') as file:\n",
        "        reader = csv.DictReader(file)\n",
        "        medications = [row for row in reader]\n",
        "\n",
        "    # Update the expiry date of the specified medication\n",
        "    for med in medications:\n",
        "        if med['medication_name'] == medication:\n",
        "            med['expiry_month'] = new_expiry\n",
        "            break\n",
        "\n",
        "    # Write the updated list back to the CSV file\n",
        "    with open(csv_file, mode='w', newline='') as file:\n",
        "        fieldnames = ['medication_name', 'expiry_month']\n",
        "        writer = csv.DictWriter(file, fieldnames=fieldnames)\n",
        "        writer.writeheader()\n",
        "        writer.writerows(medications)\n",
        "\n",
        "if __name__ == \"__main__\":\n",
        "    csv_file = 'medications.csv'\n",
        "\n",
        "    expired = check_expiry(csv_file)\n",
        "\n",
        "    if expired:\n",
        "        print(\"Expired medications:\")\n",
        "        for med in expired:\n",
        "            print(f\"- {med}\")\n",
        "\n",
        "        # Ask user for the medication they want to update\n",
        "        med_to_update = input(\"Enter the name of the medication you want to update: \")\n",
        "\n",
        "        if med_to_update in expired:\n",
        "            new_expiry = input(\"Enter the new expiry date (MM-YYYY): \")\n",
        "            update_expiry_date(csv_file, med_to_update, new_expiry)\n",
        "            print(f\"Updated {med_to_update} to expire on {new_expiry}.\")\n",
        "        else:\n",
        "            print(f\"{med_to_update} is not expired or does not exist.\")\n",
        "    else:\n",
        "        print(\"No expired medications.\")\n"
      ],
      "metadata": {
        "colab": {
          "base_uri": "https://localhost:8080/"
        },
        "id": "S_TFLhCrsEXm",
        "outputId": "dddc7a54-4060-4a3b-c5bc-6e7d871f3354"
      },
      "execution_count": 6,
      "outputs": [
        {
          "output_type": "stream",
          "name": "stdout",
          "text": [
            "No expired medications.\n"
          ]
        }
      ]
    }
  ]
}